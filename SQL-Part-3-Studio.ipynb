{
    "metadata": {
        "kernelspec": {
            "name": "SQL",
            "display_name": "SQL",
            "language": "sql"
        },
        "language_info": {
            "name": "sql",
            "version": ""
        },
        "extensions": {
            "azuredatastudio": {
                "version": 1,
                "views": []
            }
        }
    },
    "nbformat_minor": 2,
    "nbformat": 4,
    "cells": [
        {
            "cell_type": "markdown",
            "source": [
                "# SQL Part 3 Studio\n",
                "\n",
                "### Let's practice your SQL quering skills!  For each question, work along in the notebook adding your query and answering the questions. \n",
                "\n",
                "### **DataSet**\n",
                "\n",
                "### <span style=\"font-size: 14px; font-family: -apple-system, BlinkMacSystemFont, sans-serif;\">We will be using the Goodbooks-10k dataset from the exercises in the prep work.&nbsp; Feel free reference your previous notebooks.</span>\n",
                "\n",
                "- The dataset can be found here: [goodbooks-10k](https://www.kaggle.com/zygmunt/goodbooks-10k)\n",
                "- You can access the **BooksDB** in the Launchcode server.\n",
                "\n",
                "### **Business Issue**\n",
                "\n",
                "You are an employee at a small independet bookstore and you have been tasked to increase sales.  You decide to use the BooksDB to find books and themes to highlight in fun promotions throughout each month / season.  We will be starting with March and then you will have a chance to explore another month of your choosing.  We want to come up with a list of events/ promotions to run each month.  If you are looking for ideas to include in your promotions:\n",
                "\n",
                "- [https://www.calendarr.com/united-states/calendar-2022/](https://www.calendarr.com/united-states/calendar-2022/)\n",
                "- [https://www.holidayinsights.com/moreholidays/](https://www.holidayinsights.com/moreholidays/)\n",
                "    - Click on a month and it will take you to a more detailed page"
            ],
            "metadata": {
                "azdata_cell_guid": "b9034d8a-b631-48bf-a895-1012a6ffa784"
            },
            "attachments": {}
        },
        {
            "cell_type": "markdown",
            "source": [
                "## Part 1:  March - Women's History Month, Dr Seuss Day(3/2), National Pie Day3/14, St Patrick's Day (3/17), Season - Spring"
            ],
            "metadata": {
                "azdata_cell_guid": "6e55eb1c-4a14-4076-90d2-95ed17a6309f"
            },
            "attachments": {}
        },
        {
            "cell_type": "markdown",
            "source": [
                "### **Event 1:** Women's History Month\n",
                "\n",
                "Goal: Highlight Popular Womans Authors based on ratings from the Good Reads DB.\n",
                "\n",
                "### **Write a query that returns tag\\_id, the number of times each tag\\_id is used and the tag\\_name.**  \n",
                "\n",
                "### Use the GROUP BY and HAVING clause to narrow your focus.\n",
                "\n",
                "Try multiple keywords, ie woman vs female (female ended up giving better results)"
            ],
            "metadata": {
                "azdata_cell_guid": "d220c097-e9cf-4edd-9abe-312d071217b7"
            },
            "attachments": {}
        },
        {
            "cell_type": "code",
            "source": [
                "-- Solution\r\n",
                "SELECT t.tag_id,COUNT(t.tag_id),tag_name\r\n",
                "FROM BooksDB.dbo.tags AS t\r\n",
                "GROUP BY t.tag_id,tag_name\r\n",
                "HAVING tag_name LIKE '%female%'\r\n",
                ""
            ],
            "metadata": {
                "azdata_cell_guid": "e31b9d26-0386-44c7-828e-85f4f06f3ee6",
                "language": "sql"
            },
            "outputs": [
                {
                    "output_type": "display_data",
                    "data": {
                        "text/html": "(35 rows affected)"
                    },
                    "metadata": {}
                },
                {
                    "output_type": "display_data",
                    "data": {
                        "text/html": "Total execution time: 00:00:00.158"
                    },
                    "metadata": {}
                },
                {
                    "output_type": "execute_result",
                    "metadata": {},
                    "execution_count": 22,
                    "data": {
                        "application/vnd.dataresource+json": {
                            "schema": {
                                "fields": [
                                    {
                                        "name": "tag_id"
                                    },
                                    {
                                        "name": "(No column name)"
                                    },
                                    {
                                        "name": "tag_name"
                                    }
                                ]
                            },
                            "data": [
                                {
                                    "tag_id": "1741",
                                    "(No column name)": "1",
                                    "tag_name": "afghan-female-entrepreneur-under-ta"
                                },
                                {
                                    "tag_id": "3514",
                                    "(No column name)": "1",
                                    "tag_name": "author-female"
                                },
                                {
                                    "tag_id": "4309",
                                    "(No column name)": "1",
                                    "tag_name": "best-adult-female-friendship-books"
                                },
                                {
                                    "tag_id": "11642",
                                    "(No column name)": "1",
                                    "tag_name": "female"
                                },
                                {
                                    "tag_id": "11643",
                                    "(No column name)": "1",
                                    "tag_name": "female-author"
                                },
                                {
                                    "tag_id": "11644",
                                    "(No column name)": "1",
                                    "tag_name": "female-authors"
                                },
                                {
                                    "tag_id": "11645",
                                    "(No column name)": "1",
                                    "tag_name": "female-biographies"
                                },
                                {
                                    "tag_id": "11646",
                                    "(No column name)": "1",
                                    "tag_name": "female-detective"
                                },
                                {
                                    "tag_id": "11647",
                                    "(No column name)": "1",
                                    "tag_name": "female-detectives"
                                },
                                {
                                    "tag_id": "11648",
                                    "(No column name)": "1",
                                    "tag_name": "female-doctor"
                                },
                                {
                                    "tag_id": "11649",
                                    "(No column name)": "1",
                                    "tag_name": "female-fiction"
                                },
                                {
                                    "tag_id": "11650",
                                    "(No column name)": "1",
                                    "tag_name": "female-friendship"
                                },
                                {
                                    "tag_id": "11651",
                                    "(No column name)": "1",
                                    "tag_name": "female-genre-authors"
                                },
                                {
                                    "tag_id": "11652",
                                    "(No column name)": "1",
                                    "tag_name": "female-lead"
                                },
                                {
                                    "tag_id": "11653",
                                    "(No column name)": "1",
                                    "tag_name": "female-main-character"
                                },
                                {
                                    "tag_id": "11654",
                                    "(No column name)": "1",
                                    "tag_name": "female-persuasion"
                                },
                                {
                                    "tag_id": "11655",
                                    "(No column name)": "1",
                                    "tag_name": "female-pi"
                                },
                                {
                                    "tag_id": "11656",
                                    "(No column name)": "1",
                                    "tag_name": "female-pov"
                                },
                                {
                                    "tag_id": "11657",
                                    "(No column name)": "1",
                                    "tag_name": "female-povs"
                                },
                                {
                                    "tag_id": "11658",
                                    "(No column name)": "1",
                                    "tag_name": "female-protagonist"
                                },
                                {
                                    "tag_id": "11659",
                                    "(No column name)": "1",
                                    "tag_name": "female-serial-killer"
                                },
                                {
                                    "tag_id": "11660",
                                    "(No column name)": "1",
                                    "tag_name": "female-spy"
                                },
                                {
                                    "tag_id": "11661",
                                    "(No column name)": "1",
                                    "tag_name": "female-writer"
                                },
                                {
                                    "tag_id": "11662",
                                    "(No column name)": "1",
                                    "tag_name": "female-writers"
                                },
                                {
                                    "tag_id": "15331",
                                    "(No column name)": "1",
                                    "tag_name": "important-female-authors"
                                },
                                {
                                    "tag_id": "17079",
                                    "(No column name)": "1",
                                    "tag_name": "kick-ass-female"
                                },
                                {
                                    "tag_id": "24455",
                                    "(No column name)": "1",
                                    "tag_name": "protagonist-female"
                                },
                                {
                                    "tag_id": "28830",
                                    "(No column name)": "1",
                                    "tag_name": "strong-female"
                                },
                                {
                                    "tag_id": "28831",
                                    "(No column name)": "1",
                                    "tag_name": "strong-female-character"
                                },
                                {
                                    "tag_id": "28832",
                                    "(No column name)": "1",
                                    "tag_name": "strong-female-character-s"
                                },
                                {
                                    "tag_id": "28833",
                                    "(No column name)": "1",
                                    "tag_name": "strong-female-characters"
                                },
                                {
                                    "tag_id": "28834",
                                    "(No column name)": "1",
                                    "tag_name": "strong-female-lead"
                                },
                                {
                                    "tag_id": "28835",
                                    "(No column name)": "1",
                                    "tag_name": "strong-female-protagonist"
                                },
                                {
                                    "tag_id": "28836",
                                    "(No column name)": "1",
                                    "tag_name": "strong-female-supporting-characters"
                                },
                                {
                                    "tag_id": "29324",
                                    "(No column name)": "1",
                                    "tag_name": "tbr-ax-female"
                                }
                            ]
                        },
                        "text/html": [
                            "<table>",
                            "<tr><th>tag_id</th><th>(No column name)</th><th>tag_name</th></tr>",
                            "<tr><td>1741</td><td>1</td><td>afghan-female-entrepreneur-under-ta</td></tr>",
                            "<tr><td>3514</td><td>1</td><td>author-female</td></tr>",
                            "<tr><td>4309</td><td>1</td><td>best-adult-female-friendship-books</td></tr>",
                            "<tr><td>11642</td><td>1</td><td>female</td></tr>",
                            "<tr><td>11643</td><td>1</td><td>female-author</td></tr>",
                            "<tr><td>11644</td><td>1</td><td>female-authors</td></tr>",
                            "<tr><td>11645</td><td>1</td><td>female-biographies</td></tr>",
                            "<tr><td>11646</td><td>1</td><td>female-detective</td></tr>",
                            "<tr><td>11647</td><td>1</td><td>female-detectives</td></tr>",
                            "<tr><td>11648</td><td>1</td><td>female-doctor</td></tr>",
                            "<tr><td>11649</td><td>1</td><td>female-fiction</td></tr>",
                            "<tr><td>11650</td><td>1</td><td>female-friendship</td></tr>",
                            "<tr><td>11651</td><td>1</td><td>female-genre-authors</td></tr>",
                            "<tr><td>11652</td><td>1</td><td>female-lead</td></tr>",
                            "<tr><td>11653</td><td>1</td><td>female-main-character</td></tr>",
                            "<tr><td>11654</td><td>1</td><td>female-persuasion</td></tr>",
                            "<tr><td>11655</td><td>1</td><td>female-pi</td></tr>",
                            "<tr><td>11656</td><td>1</td><td>female-pov</td></tr>",
                            "<tr><td>11657</td><td>1</td><td>female-povs</td></tr>",
                            "<tr><td>11658</td><td>1</td><td>female-protagonist</td></tr>",
                            "<tr><td>11659</td><td>1</td><td>female-serial-killer</td></tr>",
                            "<tr><td>11660</td><td>1</td><td>female-spy</td></tr>",
                            "<tr><td>11661</td><td>1</td><td>female-writer</td></tr>",
                            "<tr><td>11662</td><td>1</td><td>female-writers</td></tr>",
                            "<tr><td>15331</td><td>1</td><td>important-female-authors</td></tr>",
                            "<tr><td>17079</td><td>1</td><td>kick-ass-female</td></tr>",
                            "<tr><td>24455</td><td>1</td><td>protagonist-female</td></tr>",
                            "<tr><td>28830</td><td>1</td><td>strong-female</td></tr>",
                            "<tr><td>28831</td><td>1</td><td>strong-female-character</td></tr>",
                            "<tr><td>28832</td><td>1</td><td>strong-female-character-s</td></tr>",
                            "<tr><td>28833</td><td>1</td><td>strong-female-characters</td></tr>",
                            "<tr><td>28834</td><td>1</td><td>strong-female-lead</td></tr>",
                            "<tr><td>28835</td><td>1</td><td>strong-female-protagonist</td></tr>",
                            "<tr><td>28836</td><td>1</td><td>strong-female-supporting-characters</td></tr>",
                            "<tr><td>29324</td><td>1</td><td>tbr-ax-female</td></tr>",
                            "</table>"
                        ]
                    }
                }
            ],
            "execution_count": 22
        },
        {
            "cell_type": "markdown",
            "source": [
                "### **Which keyword(s) and tag(s) would you like to explore more?**\n",
                "\n",
                "female-fiction,11649"
            ],
            "metadata": {
                "azdata_cell_guid": "e9acd8b5-a62b-4ac0-bd07-19915b379ba6"
            },
            "attachments": {}
        },
        {
            "cell_type": "markdown",
            "source": [
                "### **Write a query to return authors, titles, ratings and** **selected tag(s)\\_id.**"
            ],
            "metadata": {
                "azdata_cell_guid": "59b84464-c0bc-4dac-9e02-0c803765b063"
            },
            "attachments": {}
        },
        {
            "cell_type": "code",
            "source": [
                "-- Solution\r\n",
                "SELECT  b.title,b.authors,b.average_rating,t.tag_id\r\n",
                "FROM BooksDB.dbo.books AS b\r\n",
                "LEFT JOIN BooksDB.dbo.book_tags AS t\r\n",
                "ON b.best_book_id = t.goodreads_book_id\r\n",
                "WHERE tag_id = '11649'\r\n",
                ""
            ],
            "metadata": {
                "azdata_cell_guid": "51ffeaaf-6dde-4906-95f3-eb8757babf27",
                "tags": [],
                "language": "sql"
            },
            "outputs": [
                {
                    "output_type": "display_data",
                    "data": {
                        "text/html": "(1 row affected)"
                    },
                    "metadata": {}
                },
                {
                    "output_type": "display_data",
                    "data": {
                        "text/html": "Total execution time: 00:00:00.178"
                    },
                    "metadata": {}
                },
                {
                    "output_type": "execute_result",
                    "metadata": {},
                    "execution_count": 29,
                    "data": {
                        "application/vnd.dataresource+json": {
                            "schema": {
                                "fields": [
                                    {
                                        "name": "title"
                                    },
                                    {
                                        "name": "authors"
                                    },
                                    {
                                        "name": "average_rating"
                                    },
                                    {
                                        "name": "tag_id"
                                    }
                                ]
                            },
                            "data": [
                                {
                                    "title": "Scruples",
                                    "authors": "Judith Krantz",
                                    "average_rating": "3.8",
                                    "tag_id": "11649"
                                }
                            ]
                        },
                        "text/html": [
                            "<table>",
                            "<tr><th>title</th><th>authors</th><th>average_rating</th><th>tag_id</th></tr>",
                            "<tr><td>Scruples</td><td>Judith Krantz</td><td>3.8</td><td>11649</td></tr>",
                            "</table>"
                        ]
                    }
                }
            ],
            "execution_count": 29
        },
        {
            "cell_type": "markdown",
            "source": [
                "### **Record your thoughts about why you wrote the query the way you did.**\n",
                "\n",
                "### **Firstly,I used tags table and group and having function to find the tag names having female keyword and then in order to find** **author, title of book, rating  for the** **selected tag\\_id,I used LEFT OUTER JOIN to join books and book\\_tag table.**"
            ],
            "metadata": {
                "azdata_cell_guid": "1e19a72c-1bca-446b-a0c7-a8efbc35dcf1"
            },
            "attachments": {}
        },
        {
            "cell_type": "markdown",
            "source": [
                "# Part 2: Choose Another Month\n",
                "\n",
                "Choose another month and plan at least 2 events / promotions and answer the following questions.\n",
                "\n",
                "Which month did you choose?  March\n",
                "\n",
                "What 2 events / promotions are you highlighting?\n",
                "\n",
                "> 1. St.Patricks Day\n",
                "> 2. National Pie Day"
            ],
            "metadata": {
                "azdata_cell_guid": "3eaf376d-9de3-4553-a9d0-9caf74ee3d6a"
            },
            "attachments": {}
        },
        {
            "cell_type": "markdown",
            "source": [
                "# Part 3: Summarize your Work\n",
                "\n",
                "For each event write at least one query that joins any two tables in the BooksDB to support your choice and record you thoughts as to why you used the paticlular query. At least one of your queries needs to include a HAVING clause."
            ],
            "metadata": {
                "azdata_cell_guid": "1ba1363a-4f02-4962-a95a-93b80c5926b1"
            },
            "attachments": {}
        },
        {
            "cell_type": "code",
            "source": [
                "-- Event 1 Query\r\n",
                "SELECT t.tag_id,COUNT(t.tag_id),tag_name\r\n",
                "FROM BooksDB.dbo.tags AS t\r\n",
                "GROUP BY t.tag_id,tag_name\r\n",
                "HAVING tag_name LIKE '%spirituality%'\r\n",
                "\r\n",
                ""
            ],
            "metadata": {
                "azdata_cell_guid": "f50d32ce-4cb2-4af2-acb1-607777a76cf8",
                "language": "sql"
            },
            "outputs": [
                {
                    "output_type": "display_data",
                    "data": {
                        "text/html": "(10 rows affected)"
                    },
                    "metadata": {}
                },
                {
                    "output_type": "display_data",
                    "data": {
                        "text/html": "Total execution time: 00:00:00.165"
                    },
                    "metadata": {}
                },
                {
                    "output_type": "execute_result",
                    "metadata": {},
                    "execution_count": 35,
                    "data": {
                        "application/vnd.dataresource+json": {
                            "schema": {
                                "fields": [
                                    {
                                        "name": "tag_id"
                                    },
                                    {
                                        "name": "(No column name)"
                                    },
                                    {
                                        "name": "tag_name"
                                    }
                                ]
                            },
                            "data": [
                                {
                                    "tag_id": "1703",
                                    "(No column name)": "1",
                                    "tag_name": "adventure-spirituality"
                                },
                                {
                                    "tag_id": "4452",
                                    "(No column name)": "1",
                                    "tag_name": "biblical-spirituality"
                                },
                                {
                                    "tag_id": "5872",
                                    "(No column name)": "1",
                                    "tag_name": "buddhism-and-spirituality"
                                },
                                {
                                    "tag_id": "5876",
                                    "(No column name)": "1",
                                    "tag_name": "buddhism-spirituality"
                                },
                                {
                                    "tag_id": "7179",
                                    "(No column name)": "1",
                                    "tag_name": "christian-spirituality"
                                },
                                {
                                    "tag_id": "7208",
                                    "(No column name)": "1",
                                    "tag_name": "christianity-spirituality"
                                },
                                {
                                    "tag_id": "10620",
                                    "(No column name)": "1",
                                    "tag_name": "energy-spirituality"
                                },
                                {
                                    "tag_id": "10679",
                                    "(No column name)": "1",
                                    "tag_name": "enlightenment-spirituality-nd"
                                },
                                {
                                    "tag_id": "10851",
                                    "(No column name)": "1",
                                    "tag_name": "esoteric-spirituality"
                                },
                                {
                                    "tag_id": "11170",
                                    "(No column name)": "1",
                                    "tag_name": "faith-and-spirituality"
                                }
                            ]
                        },
                        "text/html": [
                            "<table>",
                            "<tr><th>tag_id</th><th>(No column name)</th><th>tag_name</th></tr>",
                            "<tr><td>1703</td><td>1</td><td>adventure-spirituality</td></tr>",
                            "<tr><td>4452</td><td>1</td><td>biblical-spirituality</td></tr>",
                            "<tr><td>5872</td><td>1</td><td>buddhism-and-spirituality</td></tr>",
                            "<tr><td>5876</td><td>1</td><td>buddhism-spirituality</td></tr>",
                            "<tr><td>7179</td><td>1</td><td>christian-spirituality</td></tr>",
                            "<tr><td>7208</td><td>1</td><td>christianity-spirituality</td></tr>",
                            "<tr><td>10620</td><td>1</td><td>energy-spirituality</td></tr>",
                            "<tr><td>10679</td><td>1</td><td>enlightenment-spirituality-nd</td></tr>",
                            "<tr><td>10851</td><td>1</td><td>esoteric-spirituality</td></tr>",
                            "<tr><td>11170</td><td>1</td><td>faith-and-spirituality</td></tr>",
                            "</table>"
                        ]
                    }
                }
            ],
            "execution_count": 35
        },
        {
            "cell_type": "code",
            "source": [
                "SELECT TOP 10  b.title,b.authors,b.average_rating,t.tag_id\r\n",
                "FROM BooksDB.dbo.books AS b\r\n",
                "LEFT JOIN BooksDB.dbo.book_tags AS t\r\n",
                "ON b.best_book_id = t.goodreads_book_id\r\n",
                "WHERE tag_id = '25674'"
            ],
            "metadata": {
                "azdata_cell_guid": "5606f7f2-c46b-42d3-ac64-7ae21c3394f8",
                "language": "sql"
            },
            "outputs": [
                {
                    "output_type": "display_data",
                    "data": {
                        "text/html": "(10 rows affected)"
                    },
                    "metadata": {}
                },
                {
                    "output_type": "display_data",
                    "data": {
                        "text/html": "Total execution time: 00:00:00.244"
                    },
                    "metadata": {}
                },
                {
                    "output_type": "execute_result",
                    "metadata": {},
                    "execution_count": 36,
                    "data": {
                        "application/vnd.dataresource+json": {
                            "schema": {
                                "fields": [
                                    {
                                        "name": "title"
                                    },
                                    {
                                        "name": "authors"
                                    },
                                    {
                                        "name": "average_rating"
                                    },
                                    {
                                        "name": "tag_id"
                                    }
                                ]
                            },
                            "data": [
                                {
                                    "title": "Zen and the Art of Motorcycle Maintenance: An Inquiry Into Values",
                                    "authors": "Robert M. Pirsig",
                                    "average_rating": "3.76",
                                    "tag_id": "25674"
                                },
                                {
                                    "title": "Warrior of the Light",
                                    "authors": "Paulo Coelho",
                                    "average_rating": "3.69",
                                    "tag_id": "25674"
                                },
                                {
                                    "title": "By the River Piedra I Sat Down and Wept",
                                    "authors": "Paulo Coelho, Alan R. Clarke",
                                    "average_rating": "3.57",
                                    "tag_id": "25674"
                                },
                                {
                                    "title": "Wild at Heart: Discovering the Secret of a Man's Soul",
                                    "authors": "John Eldredge",
                                    "average_rating": "3.93",
                                    "tag_id": "25674"
                                },
                                {
                                    "title": "Breaking the Spell: Religion as a Natural Phenomenon",
                                    "authors": "Daniel C. Dennett",
                                    "average_rating": "3.89",
                                    "tag_id": "25674"
                                },
                                {
                                    "title": "Way of the Peaceful Warrior: A Book That Changes Lives",
                                    "authors": "Dan Millman",
                                    "average_rating": "4.13",
                                    "tag_id": "25674"
                                },
                                {
                                    "title": "The Prophet",
                                    "authors": "Kahlil Gibran",
                                    "average_rating": "4.22",
                                    "tag_id": "25674"
                                },
                                {
                                    "title": "A History of God: The 4,000-Year Quest of Judaism, Christianity, and Islam",
                                    "authors": "Karen Armstrong",
                                    "average_rating": "3.85",
                                    "tag_id": "25674"
                                },
                                {
                                    "title": "Man's Search for Meaning",
                                    "authors": "Viktor E. Frankl",
                                    "average_rating": "4.33",
                                    "tag_id": "25674"
                                },
                                {
                                    "title": "God Bless You, Dr. Kevorkian",
                                    "authors": "Kurt Vonnegut Jr.",
                                    "average_rating": "3.83",
                                    "tag_id": "25674"
                                }
                            ]
                        },
                        "text/html": [
                            "<table>",
                            "<tr><th>title</th><th>authors</th><th>average_rating</th><th>tag_id</th></tr>",
                            "<tr><td>Zen and the Art of Motorcycle Maintenance: An Inquiry Into Values</td><td>Robert M. Pirsig</td><td>3.76</td><td>25674</td></tr>",
                            "<tr><td>Warrior of the Light</td><td>Paulo Coelho</td><td>3.69</td><td>25674</td></tr>",
                            "<tr><td>By the River Piedra I Sat Down and Wept</td><td>Paulo Coelho, Alan R. Clarke</td><td>3.57</td><td>25674</td></tr>",
                            "<tr><td>Wild at Heart: Discovering the Secret of a Man's Soul</td><td>John Eldredge</td><td>3.93</td><td>25674</td></tr>",
                            "<tr><td>Breaking the Spell: Religion as a Natural Phenomenon</td><td>Daniel C. Dennett</td><td>3.89</td><td>25674</td></tr>",
                            "<tr><td>Way of the Peaceful Warrior: A Book That Changes Lives</td><td>Dan Millman</td><td>4.13</td><td>25674</td></tr>",
                            "<tr><td>The Prophet</td><td>Kahlil Gibran</td><td>4.22</td><td>25674</td></tr>",
                            "<tr><td>A History of God: The 4,000-Year Quest of Judaism, Christianity, and Islam</td><td>Karen Armstrong</td><td>3.85</td><td>25674</td></tr>",
                            "<tr><td>Man's Search for Meaning</td><td>Viktor E. Frankl</td><td>4.33</td><td>25674</td></tr>",
                            "<tr><td>God Bless You, Dr. Kevorkian</td><td>Kurt Vonnegut Jr.</td><td>3.83</td><td>25674</td></tr>",
                            "</table>"
                        ]
                    }
                }
            ],
            "execution_count": 36
        },
        {
            "cell_type": "markdown",
            "source": [
                "### **Summary of event 1:**\n",
                "\n",
                "Double Click to edit."
            ],
            "metadata": {
                "azdata_cell_guid": "3bc72d4c-077b-42d3-9528-9aff8e7b6cf3"
            },
            "attachments": {}
        },
        {
            "cell_type": "code",
            "source": [
                "-- Event 2 Query\r\n",
                "SELECT t.tag_id,COUNT(t.tag_id),tag_name\r\n",
                "FROM BooksDB.dbo.tags AS t\r\n",
                "GROUP BY t.tag_id,tag_name\r\n",
                "HAVING tag_name LIKE '%food%'"
            ],
            "metadata": {
                "azdata_cell_guid": "dca0a98f-065f-4b0e-9d93-fcb01cad668c",
                "language": "sql"
            },
            "outputs": [
                {
                    "output_type": "display_data",
                    "data": {
                        "text/html": "(145 rows affected)"
                    },
                    "metadata": {}
                },
                {
                    "output_type": "display_data",
                    "data": {
                        "text/html": "Total execution time: 00:00:00.198"
                    },
                    "metadata": {}
                },
                {
                    "output_type": "execute_result",
                    "metadata": {},
                    "execution_count": 37,
                    "data": {
                        "application/vnd.dataresource+json": {
                            "schema": {
                                "fields": [
                                    {
                                        "name": "tag_id"
                                    },
                                    {
                                        "name": "(No column name)"
                                    },
                                    {
                                        "name": "tag_name"
                                    }
                                ]
                            },
                            "data": [
                                {
                                    "tag_id": "991",
                                    "(No column name)": "1",
                                    "tag_name": "3-food-healthy-life"
                                },
                                {
                                    "tag_id": "1473",
                                    "(No column name)": "1",
                                    "tag_name": "about-food"
                                },
                                {
                                    "tag_id": "3666",
                                    "(No column name)": "1",
                                    "tag_name": "aw-food"
                                },
                                {
                                    "tag_id": "5107",
                                    "(No column name)": "1",
                                    "tag_name": "books-about-food"
                                },
                                {
                                    "tag_id": "5142",
                                    "(No column name)": "1",
                                    "tag_name": "books-for-foodies"
                                },
                                {
                                    "tag_id": "5610",
                                    "(No column name)": "1",
                                    "tag_name": "brain-food"
                                },
                                {
                                    "tag_id": "7735",
                                    "(No column name)": "1",
                                    "tag_name": "comfort-food"
                                },
                                {
                                    "tag_id": "8137",
                                    "(No column name)": "1",
                                    "tag_name": "cookbook-food"
                                },
                                {
                                    "tag_id": "8153",
                                    "(No column name)": "1",
                                    "tag_name": "cookbooks-and-food"
                                },
                                {
                                    "tag_id": "8154",
                                    "(No column name)": "1",
                                    "tag_name": "cookbooks-and-food-books"
                                },
                                {
                                    "tag_id": "8155",
                                    "(No column name)": "1",
                                    "tag_name": "cookbooks-and-food-writing"
                                },
                                {
                                    "tag_id": "8162",
                                    "(No column name)": "1",
                                    "tag_name": "cookbooks-food"
                                },
                                {
                                    "tag_id": "8163",
                                    "(No column name)": "1",
                                    "tag_name": "cookbooks-food-literature"
                                },
                                {
                                    "tag_id": "8164",
                                    "(No column name)": "1",
                                    "tag_name": "cookbooks-food-nutrition"
                                },
                                {
                                    "tag_id": "8165",
                                    "(No column name)": "1",
                                    "tag_name": "cookbooks-food-writing"
                                },
                                {
                                    "tag_id": "8210",
                                    "(No column name)": "1",
                                    "tag_name": "cooking---food"
                                },
                                {
                                    "tag_id": "8214",
                                    "(No column name)": "1",
                                    "tag_name": "cooking-and-food"
                                },
                                {
                                    "tag_id": "8219",
                                    "(No column name)": "1",
                                    "tag_name": "cooking-baking-food"
                                },
                                {
                                    "tag_id": "8231",
                                    "(No column name)": "1",
                                    "tag_name": "cooking-food"
                                },
                                {
                                    "tag_id": "8232",
                                    "(No column name)": "1",
                                    "tag_name": "cooking-food-diet"
                                },
                                {
                                    "tag_id": "8233",
                                    "(No column name)": "1",
                                    "tag_name": "cooking-food-drink"
                                },
                                {
                                    "tag_id": "8234",
                                    "(No column name)": "1",
                                    "tag_name": "cooking-food-wine"
                                },
                                {
                                    "tag_id": "11432",
                                    "(No column name)": "1",
                                    "tag_name": "fast-food"
                                },
                                {
                                    "tag_id": "12175",
                                    "(No column name)": "1",
                                    "tag_name": "food"
                                },
                                {
                                    "tag_id": "12176",
                                    "(No column name)": "1",
                                    "tag_name": "food---cooking"
                                },
                                {
                                    "tag_id": "12177",
                                    "(No column name)": "1",
                                    "tag_name": "food---wine"
                                },
                                {
                                    "tag_id": "12178",
                                    "(No column name)": "1",
                                    "tag_name": "food-9"
                                },
                                {
                                    "tag_id": "12179",
                                    "(No column name)": "1",
                                    "tag_name": "food-agriculture"
                                },
                                {
                                    "tag_id": "12180",
                                    "(No column name)": "1",
                                    "tag_name": "food-and-cookbooks"
                                },
                                {
                                    "tag_id": "12181",
                                    "(No column name)": "1",
                                    "tag_name": "food-and-cookery"
                                },
                                {
                                    "tag_id": "12182",
                                    "(No column name)": "1",
                                    "tag_name": "food-and-cooking"
                                },
                                {
                                    "tag_id": "12183",
                                    "(No column name)": "1",
                                    "tag_name": "food-and-cuisine"
                                },
                                {
                                    "tag_id": "12184",
                                    "(No column name)": "1",
                                    "tag_name": "food-and-culture"
                                },
                                {
                                    "tag_id": "12185",
                                    "(No column name)": "1",
                                    "tag_name": "food-and-diet"
                                },
                                {
                                    "tag_id": "12186",
                                    "(No column name)": "1",
                                    "tag_name": "food-and-drink"
                                },
                                {
                                    "tag_id": "12187",
                                    "(No column name)": "1",
                                    "tag_name": "food-and-drink-cookbooks"
                                },
                                {
                                    "tag_id": "12188",
                                    "(No column name)": "1",
                                    "tag_name": "food-and-drink-cooking"
                                },
                                {
                                    "tag_id": "12189",
                                    "(No column name)": "1",
                                    "tag_name": "food-and-drink-food"
                                },
                                {
                                    "tag_id": "12190",
                                    "(No column name)": "1",
                                    "tag_name": "food-and-drink-foodie"
                                },
                                {
                                    "tag_id": "12191",
                                    "(No column name)": "1",
                                    "tag_name": "food-and-drinks"
                                },
                                {
                                    "tag_id": "12192",
                                    "(No column name)": "1",
                                    "tag_name": "food-and-health"
                                },
                                {
                                    "tag_id": "12193",
                                    "(No column name)": "1",
                                    "tag_name": "food-and-nutrition"
                                },
                                {
                                    "tag_id": "12194",
                                    "(No column name)": "1",
                                    "tag_name": "food-and-such"
                                },
                                {
                                    "tag_id": "12195",
                                    "(No column name)": "1",
                                    "tag_name": "food-and-travel"
                                },
                                {
                                    "tag_id": "12196",
                                    "(No column name)": "1",
                                    "tag_name": "food-and-travel-writing"
                                },
                                {
                                    "tag_id": "12197",
                                    "(No column name)": "1",
                                    "tag_name": "food-and-wine"
                                },
                                {
                                    "tag_id": "12198",
                                    "(No column name)": "1",
                                    "tag_name": "food-baking"
                                },
                                {
                                    "tag_id": "12199",
                                    "(No column name)": "1",
                                    "tag_name": "food-beverage-cookbooks"
                                },
                                {
                                    "tag_id": "12200",
                                    "(No column name)": "1",
                                    "tag_name": "food-books"
                                },
                                {
                                    "tag_id": "12201",
                                    "(No column name)": "1",
                                    "tag_name": "food-books-i-own"
                                },
                                {
                                    "tag_id": "12202",
                                    "(No column name)": "1",
                                    "tag_name": "food-books-temp"
                                },
                                {
                                    "tag_id": "12203",
                                    "(No column name)": "1",
                                    "tag_name": "food-books-to-buy"
                                },
                                {
                                    "tag_id": "12204",
                                    "(No column name)": "1",
                                    "tag_name": "food-books-to-read"
                                },
                                {
                                    "tag_id": "12205",
                                    "(No column name)": "1",
                                    "tag_name": "food-business"
                                },
                                {
                                    "tag_id": "12206",
                                    "(No column name)": "1",
                                    "tag_name": "food-cook-books"
                                },
                                {
                                    "tag_id": "12207",
                                    "(No column name)": "1",
                                    "tag_name": "food-cookbooks"
                                },
                                {
                                    "tag_id": "12208",
                                    "(No column name)": "1",
                                    "tag_name": "food-cooking"
                                },
                                {
                                    "tag_id": "12209",
                                    "(No column name)": "1",
                                    "tag_name": "food-cooking-nutrition"
                                },
                                {
                                    "tag_id": "12210",
                                    "(No column name)": "1",
                                    "tag_name": "food-cuisine-cooking"
                                },
                                {
                                    "tag_id": "12211",
                                    "(No column name)": "1",
                                    "tag_name": "food-culture"
                                },
                                {
                                    "tag_id": "12212",
                                    "(No column name)": "1",
                                    "tag_name": "food-diet"
                                },
                                {
                                    "tag_id": "12213",
                                    "(No column name)": "1",
                                    "tag_name": "food-drink"
                                },
                                {
                                    "tag_id": "12214",
                                    "(No column name)": "1",
                                    "tag_name": "food-drinks"
                                },
                                {
                                    "tag_id": "12215",
                                    "(No column name)": "1",
                                    "tag_name": "food-etc"
                                },
                                {
                                    "tag_id": "12216",
                                    "(No column name)": "1",
                                    "tag_name": "food-ethics"
                                },
                                {
                                    "tag_id": "12217",
                                    "(No column name)": "1",
                                    "tag_name": "food-farming"
                                },
                                {
                                    "tag_id": "12218",
                                    "(No column name)": "1",
                                    "tag_name": "food-fiction"
                                },
                                {
                                    "tag_id": "12219",
                                    "(No column name)": "1",
                                    "tag_name": "food-food-and-more-food"
                                },
                                {
                                    "tag_id": "12220",
                                    "(No column name)": "1",
                                    "tag_name": "food-for-the-melaninated-soul"
                                },
                                {
                                    "tag_id": "12221",
                                    "(No column name)": "1",
                                    "tag_name": "food-for-thought"
                                },
                                {
                                    "tag_id": "12222",
                                    "(No column name)": "1",
                                    "tag_name": "food-gardening"
                                },
                                {
                                    "tag_id": "12223",
                                    "(No column name)": "1",
                                    "tag_name": "food-gardening-sustainability"
                                },
                                {
                                    "tag_id": "12224",
                                    "(No column name)": "1",
                                    "tag_name": "food-glorious-food"
                                },
                                {
                                    "tag_id": "12225",
                                    "(No column name)": "1",
                                    "tag_name": "food-goes-in-your-mouth"
                                },
                                {
                                    "tag_id": "12226",
                                    "(No column name)": "1",
                                    "tag_name": "food-health"
                                },
                                {
                                    "tag_id": "12227",
                                    "(No column name)": "1",
                                    "tag_name": "food-health-cook"
                                },
                                {
                                    "tag_id": "12228",
                                    "(No column name)": "1",
                                    "tag_name": "food-history"
                                },
                                {
                                    "tag_id": "12229",
                                    "(No column name)": "1",
                                    "tag_name": "food-industry"
                                },
                                {
                                    "tag_id": "12230",
                                    "(No column name)": "1",
                                    "tag_name": "food-issues"
                                },
                                {
                                    "tag_id": "12231",
                                    "(No column name)": "1",
                                    "tag_name": "food-lit"
                                },
                                {
                                    "tag_id": "12232",
                                    "(No column name)": "1",
                                    "tag_name": "food-literature"
                                },
                                {
                                    "tag_id": "12233",
                                    "(No column name)": "1",
                                    "tag_name": "food-memoir"
                                },
                                {
                                    "tag_id": "12234",
                                    "(No column name)": "1",
                                    "tag_name": "food-memoirs"
                                },
                                {
                                    "tag_id": "12235",
                                    "(No column name)": "1",
                                    "tag_name": "food-mysteries"
                                },
                                {
                                    "tag_id": "12236",
                                    "(No column name)": "1",
                                    "tag_name": "food-network"
                                },
                                {
                                    "tag_id": "12237",
                                    "(No column name)": "1",
                                    "tag_name": "food-non-fiction"
                                },
                                {
                                    "tag_id": "12238",
                                    "(No column name)": "1",
                                    "tag_name": "food-nutrition"
                                },
                                {
                                    "tag_id": "12239",
                                    "(No column name)": "1",
                                    "tag_name": "food-politics"
                                },
                                {
                                    "tag_id": "12240",
                                    "(No column name)": "1",
                                    "tag_name": "food-preservation"
                                },
                                {
                                    "tag_id": "12241",
                                    "(No column name)": "1",
                                    "tag_name": "food-reads"
                                },
                                {
                                    "tag_id": "12242",
                                    "(No column name)": "1",
                                    "tag_name": "food-reference"
                                },
                                {
                                    "tag_id": "12243",
                                    "(No column name)": "1",
                                    "tag_name": "food-related"
                                },
                                {
                                    "tag_id": "12244",
                                    "(No column name)": "1",
                                    "tag_name": "food-science"
                                },
                                {
                                    "tag_id": "12245",
                                    "(No column name)": "1",
                                    "tag_name": "food-sciences"
                                },
                                {
                                    "tag_id": "12246",
                                    "(No column name)": "1",
                                    "tag_name": "food-studies"
                                },
                                {
                                    "tag_id": "12247",
                                    "(No column name)": "1",
                                    "tag_name": "food-to-read"
                                },
                                {
                                    "tag_id": "12248",
                                    "(No column name)": "1",
                                    "tag_name": "food-vegan"
                                },
                                {
                                    "tag_id": "12249",
                                    "(No column name)": "1",
                                    "tag_name": "food-wine"
                                },
                                {
                                    "tag_id": "12250",
                                    "(No column name)": "1",
                                    "tag_name": "food-wine-books"
                                },
                                {
                                    "tag_id": "12251",
                                    "(No column name)": "1",
                                    "tag_name": "food-wine-tea"
                                },
                                {
                                    "tag_id": "12252",
                                    "(No column name)": "1",
                                    "tag_name": "food-writing"
                                },
                                {
                                    "tag_id": "12253",
                                    "(No column name)": "1",
                                    "tag_name": "foodbooks"
                                },
                                {
                                    "tag_id": "12254",
                                    "(No column name)": "1",
                                    "tag_name": "foodery"
                                },
                                {
                                    "tag_id": "12255",
                                    "(No column name)": "1",
                                    "tag_name": "foodie"
                                },
                                {
                                    "tag_id": "12256",
                                    "(No column name)": "1",
                                    "tag_name": "foodie-american"
                                },
                                {
                                    "tag_id": "12257",
                                    "(No column name)": "1",
                                    "tag_name": "foodie-baking"
                                },
                                {
                                    "tag_id": "12258",
                                    "(No column name)": "1",
                                    "tag_name": "foodie-books"
                                },
                                {
                                    "tag_id": "12259",
                                    "(No column name)": "1",
                                    "tag_name": "foodie-classic"
                                },
                                {
                                    "tag_id": "12260",
                                    "(No column name)": "1",
                                    "tag_name": "foodie-cookbook"
                                },
                                {
                                    "tag_id": "12261",
                                    "(No column name)": "1",
                                    "tag_name": "foodie-cupcakes"
                                },
                                {
                                    "tag_id": "12262",
                                    "(No column name)": "1",
                                    "tag_name": "foodie-fiction"
                                },
                                {
                                    "tag_id": "12263",
                                    "(No column name)": "1",
                                    "tag_name": "foodie-ina-garten"
                                },
                                {
                                    "tag_id": "12264",
                                    "(No column name)": "1",
                                    "tag_name": "foodie-lit"
                                },
                                {
                                    "tag_id": "12265",
                                    "(No column name)": "1",
                                    "tag_name": "foodie-memoirs"
                                },
                                {
                                    "tag_id": "12266",
                                    "(No column name)": "1",
                                    "tag_name": "foodie-nigella"
                                },
                                {
                                    "tag_id": "12267",
                                    "(No column name)": "1",
                                    "tag_name": "foodie-reads"
                                },
                                {
                                    "tag_id": "12268",
                                    "(No column name)": "1",
                                    "tag_name": "foodie-simple"
                                },
                                {
                                    "tag_id": "12269",
                                    "(No column name)": "1",
                                    "tag_name": "foodie-stuff"
                                },
                                {
                                    "tag_id": "12270",
                                    "(No column name)": "1",
                                    "tag_name": "foodie-vegan"
                                },
                                {
                                    "tag_id": "12271",
                                    "(No column name)": "1",
                                    "tag_name": "foodies"
                                },
                                {
                                    "tag_id": "12272",
                                    "(No column name)": "1",
                                    "tag_name": "foodporn"
                                },
                                {
                                    "tag_id": "12273",
                                    "(No column name)": "1",
                                    "tag_name": "foods"
                                },
                                {
                                    "tag_id": "12274",
                                    "(No column name)": "1",
                                    "tag_name": "foodstuff"
                                },
                                {
                                    "tag_id": "12275",
                                    "(No column name)": "1",
                                    "tag_name": "foodwriting"
                                },
                                {
                                    "tag_id": "12563",
                                    "(No column name)": "1",
                                    "tag_name": "french-foodie"
                                },
                                {
                                    "tag_id": "13621",
                                    "(No column name)": "1",
                                    "tag_name": "great-food"
                                },
                                {
                                    "tag_id": "14139",
                                    "(No column name)": "1",
                                    "tag_name": "health-and-food"
                                },
                                {
                                    "tag_id": "14140",
                                    "(No column name)": "1",
                                    "tag_name": "health-and-food-books"
                                },
                                {
                                    "tag_id": "14152",
                                    "(No column name)": "1",
                                    "tag_name": "health-food"
                                },
                                {
                                    "tag_id": "16762",
                                    "(No column name)": "1",
                                    "tag_name": "junk-food-lit"
                                },
                                {
                                    "tag_id": "21709",
                                    "(No column name)": "1",
                                    "tag_name": "non-fiction-food"
                                },
                                {
                                    "tag_id": "21769",
                                    "(No column name)": "1",
                                    "tag_name": "nonfic-food"
                                },
                                {
                                    "tag_id": "22102",
                                    "(No column name)": "1",
                                    "tag_name": "nutrition-food"
                                },
                                {
                                    "tag_id": "22327",
                                    "(No column name)": "1",
                                    "tag_name": "on-food-and-agriculture"
                                },
                                {
                                    "tag_id": "25421",
                                    "(No column name)": "1",
                                    "tag_name": "real-food"
                                },
                                {
                                    "tag_id": "26863",
                                    "(No column name)": "1",
                                    "tag_name": "science-nature-food"
                                },
                                {
                                    "tag_id": "28164",
                                    "(No column name)": "1",
                                    "tag_name": "soul-food"
                                },
                                {
                                    "tag_id": "30678",
                                    "(No column name)": "1",
                                    "tag_name": "to-read-food"
                                },
                                {
                                    "tag_id": "31795",
                                    "(No column name)": "1",
                                    "tag_name": "vegan-food"
                                },
                                {
                                    "tag_id": "32090",
                                    "(No column name)": "1",
                                    "tag_name": "want-to-eat-books-about-food"
                                },
                                {
                                    "tag_id": "32435",
                                    "(No column name)": "1",
                                    "tag_name": "whole-foods"
                                },
                                {
                                    "tag_id": "32550",
                                    "(No column name)": "1",
                                    "tag_name": "wine-and-food"
                                },
                                {
                                    "tag_id": "32896",
                                    "(No column name)": "1",
                                    "tag_name": "wtr-food"
                                },
                                {
                                    "tag_id": "32978",
                                    "(No column name)": "1",
                                    "tag_name": "y-food-health"
                                },
                                {
                                    "tag_id": "32981",
                                    "(No column name)": "1",
                                    "tag_name": "y-nonfic-home-food"
                                }
                            ]
                        },
                        "text/html": [
                            "<table>",
                            "<tr><th>tag_id</th><th>(No column name)</th><th>tag_name</th></tr>",
                            "<tr><td>991</td><td>1</td><td>3-food-healthy-life</td></tr>",
                            "<tr><td>1473</td><td>1</td><td>about-food</td></tr>",
                            "<tr><td>3666</td><td>1</td><td>aw-food</td></tr>",
                            "<tr><td>5107</td><td>1</td><td>books-about-food</td></tr>",
                            "<tr><td>5142</td><td>1</td><td>books-for-foodies</td></tr>",
                            "<tr><td>5610</td><td>1</td><td>brain-food</td></tr>",
                            "<tr><td>7735</td><td>1</td><td>comfort-food</td></tr>",
                            "<tr><td>8137</td><td>1</td><td>cookbook-food</td></tr>",
                            "<tr><td>8153</td><td>1</td><td>cookbooks-and-food</td></tr>",
                            "<tr><td>8154</td><td>1</td><td>cookbooks-and-food-books</td></tr>",
                            "<tr><td>8155</td><td>1</td><td>cookbooks-and-food-writing</td></tr>",
                            "<tr><td>8162</td><td>1</td><td>cookbooks-food</td></tr>",
                            "<tr><td>8163</td><td>1</td><td>cookbooks-food-literature</td></tr>",
                            "<tr><td>8164</td><td>1</td><td>cookbooks-food-nutrition</td></tr>",
                            "<tr><td>8165</td><td>1</td><td>cookbooks-food-writing</td></tr>",
                            "<tr><td>8210</td><td>1</td><td>cooking---food</td></tr>",
                            "<tr><td>8214</td><td>1</td><td>cooking-and-food</td></tr>",
                            "<tr><td>8219</td><td>1</td><td>cooking-baking-food</td></tr>",
                            "<tr><td>8231</td><td>1</td><td>cooking-food</td></tr>",
                            "<tr><td>8232</td><td>1</td><td>cooking-food-diet</td></tr>",
                            "<tr><td>8233</td><td>1</td><td>cooking-food-drink</td></tr>",
                            "<tr><td>8234</td><td>1</td><td>cooking-food-wine</td></tr>",
                            "<tr><td>11432</td><td>1</td><td>fast-food</td></tr>",
                            "<tr><td>12175</td><td>1</td><td>food</td></tr>",
                            "<tr><td>12176</td><td>1</td><td>food---cooking</td></tr>",
                            "<tr><td>12177</td><td>1</td><td>food---wine</td></tr>",
                            "<tr><td>12178</td><td>1</td><td>food-9</td></tr>",
                            "<tr><td>12179</td><td>1</td><td>food-agriculture</td></tr>",
                            "<tr><td>12180</td><td>1</td><td>food-and-cookbooks</td></tr>",
                            "<tr><td>12181</td><td>1</td><td>food-and-cookery</td></tr>",
                            "<tr><td>12182</td><td>1</td><td>food-and-cooking</td></tr>",
                            "<tr><td>12183</td><td>1</td><td>food-and-cuisine</td></tr>",
                            "<tr><td>12184</td><td>1</td><td>food-and-culture</td></tr>",
                            "<tr><td>12185</td><td>1</td><td>food-and-diet</td></tr>",
                            "<tr><td>12186</td><td>1</td><td>food-and-drink</td></tr>",
                            "<tr><td>12187</td><td>1</td><td>food-and-drink-cookbooks</td></tr>",
                            "<tr><td>12188</td><td>1</td><td>food-and-drink-cooking</td></tr>",
                            "<tr><td>12189</td><td>1</td><td>food-and-drink-food</td></tr>",
                            "<tr><td>12190</td><td>1</td><td>food-and-drink-foodie</td></tr>",
                            "<tr><td>12191</td><td>1</td><td>food-and-drinks</td></tr>",
                            "<tr><td>12192</td><td>1</td><td>food-and-health</td></tr>",
                            "<tr><td>12193</td><td>1</td><td>food-and-nutrition</td></tr>",
                            "<tr><td>12194</td><td>1</td><td>food-and-such</td></tr>",
                            "<tr><td>12195</td><td>1</td><td>food-and-travel</td></tr>",
                            "<tr><td>12196</td><td>1</td><td>food-and-travel-writing</td></tr>",
                            "<tr><td>12197</td><td>1</td><td>food-and-wine</td></tr>",
                            "<tr><td>12198</td><td>1</td><td>food-baking</td></tr>",
                            "<tr><td>12199</td><td>1</td><td>food-beverage-cookbooks</td></tr>",
                            "<tr><td>12200</td><td>1</td><td>food-books</td></tr>",
                            "<tr><td>12201</td><td>1</td><td>food-books-i-own</td></tr>",
                            "<tr><td>12202</td><td>1</td><td>food-books-temp</td></tr>",
                            "<tr><td>12203</td><td>1</td><td>food-books-to-buy</td></tr>",
                            "<tr><td>12204</td><td>1</td><td>food-books-to-read</td></tr>",
                            "<tr><td>12205</td><td>1</td><td>food-business</td></tr>",
                            "<tr><td>12206</td><td>1</td><td>food-cook-books</td></tr>",
                            "<tr><td>12207</td><td>1</td><td>food-cookbooks</td></tr>",
                            "<tr><td>12208</td><td>1</td><td>food-cooking</td></tr>",
                            "<tr><td>12209</td><td>1</td><td>food-cooking-nutrition</td></tr>",
                            "<tr><td>12210</td><td>1</td><td>food-cuisine-cooking</td></tr>",
                            "<tr><td>12211</td><td>1</td><td>food-culture</td></tr>",
                            "<tr><td>12212</td><td>1</td><td>food-diet</td></tr>",
                            "<tr><td>12213</td><td>1</td><td>food-drink</td></tr>",
                            "<tr><td>12214</td><td>1</td><td>food-drinks</td></tr>",
                            "<tr><td>12215</td><td>1</td><td>food-etc</td></tr>",
                            "<tr><td>12216</td><td>1</td><td>food-ethics</td></tr>",
                            "<tr><td>12217</td><td>1</td><td>food-farming</td></tr>",
                            "<tr><td>12218</td><td>1</td><td>food-fiction</td></tr>",
                            "<tr><td>12219</td><td>1</td><td>food-food-and-more-food</td></tr>",
                            "<tr><td>12220</td><td>1</td><td>food-for-the-melaninated-soul</td></tr>",
                            "<tr><td>12221</td><td>1</td><td>food-for-thought</td></tr>",
                            "<tr><td>12222</td><td>1</td><td>food-gardening</td></tr>",
                            "<tr><td>12223</td><td>1</td><td>food-gardening-sustainability</td></tr>",
                            "<tr><td>12224</td><td>1</td><td>food-glorious-food</td></tr>",
                            "<tr><td>12225</td><td>1</td><td>food-goes-in-your-mouth</td></tr>",
                            "<tr><td>12226</td><td>1</td><td>food-health</td></tr>",
                            "<tr><td>12227</td><td>1</td><td>food-health-cook</td></tr>",
                            "<tr><td>12228</td><td>1</td><td>food-history</td></tr>",
                            "<tr><td>12229</td><td>1</td><td>food-industry</td></tr>",
                            "<tr><td>12230</td><td>1</td><td>food-issues</td></tr>",
                            "<tr><td>12231</td><td>1</td><td>food-lit</td></tr>",
                            "<tr><td>12232</td><td>1</td><td>food-literature</td></tr>",
                            "<tr><td>12233</td><td>1</td><td>food-memoir</td></tr>",
                            "<tr><td>12234</td><td>1</td><td>food-memoirs</td></tr>",
                            "<tr><td>12235</td><td>1</td><td>food-mysteries</td></tr>",
                            "<tr><td>12236</td><td>1</td><td>food-network</td></tr>",
                            "<tr><td>12237</td><td>1</td><td>food-non-fiction</td></tr>",
                            "<tr><td>12238</td><td>1</td><td>food-nutrition</td></tr>",
                            "<tr><td>12239</td><td>1</td><td>food-politics</td></tr>",
                            "<tr><td>12240</td><td>1</td><td>food-preservation</td></tr>",
                            "<tr><td>12241</td><td>1</td><td>food-reads</td></tr>",
                            "<tr><td>12242</td><td>1</td><td>food-reference</td></tr>",
                            "<tr><td>12243</td><td>1</td><td>food-related</td></tr>",
                            "<tr><td>12244</td><td>1</td><td>food-science</td></tr>",
                            "<tr><td>12245</td><td>1</td><td>food-sciences</td></tr>",
                            "<tr><td>12246</td><td>1</td><td>food-studies</td></tr>",
                            "<tr><td>12247</td><td>1</td><td>food-to-read</td></tr>",
                            "<tr><td>12248</td><td>1</td><td>food-vegan</td></tr>",
                            "<tr><td>12249</td><td>1</td><td>food-wine</td></tr>",
                            "<tr><td>12250</td><td>1</td><td>food-wine-books</td></tr>",
                            "<tr><td>12251</td><td>1</td><td>food-wine-tea</td></tr>",
                            "<tr><td>12252</td><td>1</td><td>food-writing</td></tr>",
                            "<tr><td>12253</td><td>1</td><td>foodbooks</td></tr>",
                            "<tr><td>12254</td><td>1</td><td>foodery</td></tr>",
                            "<tr><td>12255</td><td>1</td><td>foodie</td></tr>",
                            "<tr><td>12256</td><td>1</td><td>foodie-american</td></tr>",
                            "<tr><td>12257</td><td>1</td><td>foodie-baking</td></tr>",
                            "<tr><td>12258</td><td>1</td><td>foodie-books</td></tr>",
                            "<tr><td>12259</td><td>1</td><td>foodie-classic</td></tr>",
                            "<tr><td>12260</td><td>1</td><td>foodie-cookbook</td></tr>",
                            "<tr><td>12261</td><td>1</td><td>foodie-cupcakes</td></tr>",
                            "<tr><td>12262</td><td>1</td><td>foodie-fiction</td></tr>",
                            "<tr><td>12263</td><td>1</td><td>foodie-ina-garten</td></tr>",
                            "<tr><td>12264</td><td>1</td><td>foodie-lit</td></tr>",
                            "<tr><td>12265</td><td>1</td><td>foodie-memoirs</td></tr>",
                            "<tr><td>12266</td><td>1</td><td>foodie-nigella</td></tr>",
                            "<tr><td>12267</td><td>1</td><td>foodie-reads</td></tr>",
                            "<tr><td>12268</td><td>1</td><td>foodie-simple</td></tr>",
                            "<tr><td>12269</td><td>1</td><td>foodie-stuff</td></tr>",
                            "<tr><td>12270</td><td>1</td><td>foodie-vegan</td></tr>",
                            "<tr><td>12271</td><td>1</td><td>foodies</td></tr>",
                            "<tr><td>12272</td><td>1</td><td>foodporn</td></tr>",
                            "<tr><td>12273</td><td>1</td><td>foods</td></tr>",
                            "<tr><td>12274</td><td>1</td><td>foodstuff</td></tr>",
                            "<tr><td>12275</td><td>1</td><td>foodwriting</td></tr>",
                            "<tr><td>12563</td><td>1</td><td>french-foodie</td></tr>",
                            "<tr><td>13621</td><td>1</td><td>great-food</td></tr>",
                            "<tr><td>14139</td><td>1</td><td>health-and-food</td></tr>",
                            "<tr><td>14140</td><td>1</td><td>health-and-food-books</td></tr>",
                            "<tr><td>14152</td><td>1</td><td>health-food</td></tr>",
                            "<tr><td>16762</td><td>1</td><td>junk-food-lit</td></tr>",
                            "<tr><td>21709</td><td>1</td><td>non-fiction-food</td></tr>",
                            "<tr><td>21769</td><td>1</td><td>nonfic-food</td></tr>",
                            "<tr><td>22102</td><td>1</td><td>nutrition-food</td></tr>",
                            "<tr><td>22327</td><td>1</td><td>on-food-and-agriculture</td></tr>",
                            "<tr><td>25421</td><td>1</td><td>real-food</td></tr>",
                            "<tr><td>26863</td><td>1</td><td>science-nature-food</td></tr>",
                            "<tr><td>28164</td><td>1</td><td>soul-food</td></tr>",
                            "<tr><td>30678</td><td>1</td><td>to-read-food</td></tr>",
                            "<tr><td>31795</td><td>1</td><td>vegan-food</td></tr>",
                            "<tr><td>32090</td><td>1</td><td>want-to-eat-books-about-food</td></tr>",
                            "<tr><td>32435</td><td>1</td><td>whole-foods</td></tr>",
                            "<tr><td>32550</td><td>1</td><td>wine-and-food</td></tr>",
                            "<tr><td>32896</td><td>1</td><td>wtr-food</td></tr>",
                            "<tr><td>32978</td><td>1</td><td>y-food-health</td></tr>",
                            "<tr><td>32981</td><td>1</td><td>y-nonfic-home-food</td></tr>",
                            "</table>"
                        ]
                    }
                }
            ],
            "execution_count": 37
        },
        {
            "cell_type": "code",
            "source": [
                "SELECT b.title,b.authors,b.average_rating,t.tag_id\r\n",
                "FROM BooksDB.dbo.books AS b\r\n",
                "LEFT JOIN BooksDB.dbo.book_tags AS t\r\n",
                "ON b.best_book_id = t.goodreads_book_id\r\n",
                "WHERE tag_id = '12198'"
            ],
            "metadata": {
                "azdata_cell_guid": "3aaae3a8-eff7-4b37-8970-2d913a67239b",
                "language": "sql"
            },
            "outputs": [
                {
                    "output_type": "display_data",
                    "data": {
                        "text/html": "(1 row affected)"
                    },
                    "metadata": {}
                },
                {
                    "output_type": "display_data",
                    "data": {
                        "text/html": "Total execution time: 00:00:00.251"
                    },
                    "metadata": {}
                },
                {
                    "output_type": "execute_result",
                    "metadata": {},
                    "execution_count": 39,
                    "data": {
                        "application/vnd.dataresource+json": {
                            "schema": {
                                "fields": [
                                    {
                                        "name": "title"
                                    },
                                    {
                                        "name": "authors"
                                    },
                                    {
                                        "name": "average_rating"
                                    },
                                    {
                                        "name": "tag_id"
                                    }
                                ]
                            },
                            "data": [
                                {
                                    "title": "The Cake Bible",
                                    "authors": "Rose Levy Beranbaum, Maria Guarnaschelli, Vincent Lee, Manuela Paul, Dean G. Bornstein",
                                    "average_rating": "4.2",
                                    "tag_id": "12198"
                                }
                            ]
                        },
                        "text/html": [
                            "<table>",
                            "<tr><th>title</th><th>authors</th><th>average_rating</th><th>tag_id</th></tr>",
                            "<tr><td>The Cake Bible</td><td>Rose Levy Beranbaum, Maria Guarnaschelli, Vincent Lee, Manuela Paul, Dean G. Bornstein</td><td>4.2</td><td>12198</td></tr>",
                            "</table>"
                        ]
                    }
                }
            ],
            "execution_count": 39
        },
        {
            "cell_type": "markdown",
            "source": [
                "### **Summary of event 2:**\n",
                "\n",
                "Double Click to edit."
            ],
            "metadata": {
                "azdata_cell_guid": "99d518dc-cd8b-42d6-9a9d-708771c9aa99"
            },
            "attachments": {}
        }
    ]
}